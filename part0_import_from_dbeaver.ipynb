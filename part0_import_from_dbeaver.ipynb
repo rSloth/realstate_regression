{
 "cells": [
  {
   "cell_type": "code",
   "execution_count": 2,
   "id": "df10a8c0",
   "metadata": {},
   "outputs": [],
   "source": [
    "import pandas as pd\n",
    "import numpy as np\n",
    "import seaborn as sns\n",
    "\n",
    "import psycopg2\n",
    "import os\n",
    "from dotenv import load_dotenv\n",
    "\n"
   ]
  },
  {
   "cell_type": "code",
   "execution_count": 3,
   "id": "b9bb70ea",
   "metadata": {},
   "outputs": [],
   "source": [
    "# # import data with psycop2\n",
    "\n",
    "# load_dotenv()\n",
    "\n",
    "# DATABASE = os.getenv('DATABASE')\n",
    "# USER_DB = os.getenv('USER_DB')\n",
    "# PASSWORD = os.getenv('PASSWORD')\n",
    "# HOST = os.getenv('HOST')\n",
    "# PORT = os.getenv('PORT')\n",
    "\n",
    "# conn = psycopg2.connect(\n",
    "#     database=DATABASE,\n",
    "#     user=USER_DB,\n",
    "#     password=PASSWORD,\n",
    "#     host=HOST,\n",
    "#     port=PORT\n",
    "# )\n",
    "\n",
    "# cur = conn.cursor()\n",
    "\n",
    "# query_string = \"\"\"SELECT s.id \n",
    "# FROM eda.king_county_house_details d \n",
    "# LEFT JOIN eda.king_county_house_sales s \n",
    "#     ON s.house_id = d.id\n",
    "# \"\"\"\n",
    "\n",
    "# df = pd.read_sql(query_string, conn)\n",
    "# conn.close()"
   ]
  },
  {
   "cell_type": "code",
   "execution_count": 4,
   "id": "2f80cc13",
   "metadata": {},
   "outputs": [],
   "source": [
    "# import data with sqlalchemy\n",
    "\n",
    "from sqlalchemy import create_engine\n",
    "\n",
    "#read the database string from the .env\n",
    "load_dotenv()\n",
    "DB_STRING = os.getenv('DB_STRING')\n",
    "db = create_engine(DB_STRING)\n",
    "\n",
    "query_string = \"\"\"SELECT * \n",
    "FROM eda.king_county_house_details d \n",
    "LEFT JOIN eda.king_county_house_sales s \n",
    "    ON s.house_id = d.id\n",
    "\"\"\"\n",
    "\n",
    "df = pd.read_sql(query_string, db)\n",
    "df.to_csv('eda.csv',index=False)"
   ]
  },
  {
   "cell_type": "code",
   "execution_count": 6,
   "id": "e5fbc2a6",
   "metadata": {},
   "outputs": [
    {
     "data": {
      "text/plain": [
       "Index(['id', 'bedrooms', 'bathrooms', 'sqft_living', 'sqft_lot', 'floors',\n",
       "       'waterfront', 'view', 'condition', 'grade', 'sqft_above',\n",
       "       'sqft_basement', 'yr_built', 'yr_renovated', 'zipcode', 'lat', 'long',\n",
       "       'sqft_living15', 'sqft_lot15', 'date', 'price', 'house_id', 'id'],\n",
       "      dtype='object')"
      ]
     },
     "execution_count": 6,
     "metadata": {},
     "output_type": "execute_result"
    }
   ],
   "source": [
    "df.columns"
   ]
  }
 ],
 "metadata": {
  "kernelspec": {
   "display_name": ".venv",
   "language": "python",
   "name": "python3"
  },
  "language_info": {
   "codemirror_mode": {
    "name": "ipython",
    "version": 3
   },
   "file_extension": ".py",
   "mimetype": "text/x-python",
   "name": "python",
   "nbconvert_exporter": "python",
   "pygments_lexer": "ipython3",
   "version": "3.11.3"
  }
 },
 "nbformat": 4,
 "nbformat_minor": 5
}
